{
 "cells": [
  {
   "cell_type": "markdown",
   "id": "4c27e937-70ba-4197-a7df-872ff412a6a4",
   "metadata": {},
   "source": [
    "# Lesson 2: Datasets For Reinforcement Learning Training"
   ]
  },
  {
   "cell_type": "markdown",
   "id": "71cd7a85-7f17-4788-ba14-2f2d3476fc0e",
   "metadata": {},
   "source": [
    "### Loading and exploring the datasets\n",
    "\n",
    "\"Reinforcement Learning from Human Feedback\" **(RLHF)** requires the following datasets:\n",
    "- Preference dataset\n",
    "  - `Input prompt`, `candidate response 0`, `candidate response 1`, `choice` (candidate 0 or 1)\n",
    "- Prompt dataset\n",
    "  - `Input prompt` only, no response"
   ]
  },
  {
   "cell_type": "markdown",
   "id": "f1c0e54d-16b9-4a12-829e-b78b23e95b3d",
   "metadata": {},
   "source": [
    "#### Preference dataset"
   ]
  },
  {
   "cell_type": "code",
   "execution_count": 1,
   "id": "197064ee-babc-46ab-9162-50b7e7d76629",
   "metadata": {},
   "outputs": [],
   "source": [
    "preference_dataset_path = \"sample_preference.jsonl\""
   ]
  },
  {
   "cell_type": "code",
   "execution_count": 2,
   "id": "6fd12f37-5e20-4c99-a246-a127b77f7adc",
   "metadata": {},
   "outputs": [],
   "source": [
    "import json"
   ]
  },
  {
   "cell_type": "code",
   "execution_count": 3,
   "id": "b369c4f0-1386-4f8b-a0cb-44e4e449d0cd",
   "metadata": {},
   "outputs": [],
   "source": [
    "preference_data = []"
   ]
  },
  {
   "cell_type": "code",
   "execution_count": 4,
   "id": "2d8afe63-edab-44e2-9f6a-31595fd409fb",
   "metadata": {},
   "outputs": [],
   "source": [
    "with open(preference_dataset_path) as f:\n",
    "    for line in f:\n",
    "        preference_data.append(json.loads(line))"
   ]
  },
  {
   "cell_type": "markdown",
   "id": "6b66054f-94b6-438a-af9d-b377573676d3",
   "metadata": {},
   "source": [
    "- Print out to explore the preference dataset"
   ]
  },
  {
   "cell_type": "code",
   "execution_count": 11,
   "id": "5c7088e4-2bb9-427b-9b75-7fcdb6c4fcb5",
   "metadata": {},
   "outputs": [],
   "source": [
    "sample_1 = preference_data[0]"
   ]
  },
  {
   "cell_type": "code",
   "execution_count": 12,
   "id": "2ab31d52-ec3f-4542-b994-c1df00153f03",
   "metadata": {},
   "outputs": [
    {
     "name": "stdout",
     "output_type": "stream",
     "text": [
      "<class 'dict'>\n"
     ]
    }
   ],
   "source": [
    "print(type(sample_1))"
   ]
  },
  {
   "cell_type": "code",
   "execution_count": 13,
   "id": "152db1c4-308d-4eae-992c-77af67f7dbb1",
   "metadata": {},
   "outputs": [
    {
     "name": "stdout",
     "output_type": "stream",
     "text": [
      "dict_keys(['input_text', 'candidate_0', 'candidate_1', 'choice'])\n"
     ]
    }
   ],
   "source": [
    "#this dictionary has 4 keys\n",
    "print(sample_1.keys())"
   ]
  },
  {
   "cell_type": "markdown",
   "id": "5c39118b-e863-49fd-9a83-dc42f9c4d02e",
   "metadata": {},
   "source": [
    "- Key: 'input_test' is a prompt."
   ]
  },
  {
   "cell_type": "code",
   "execution_count": 15,
   "id": "4ad67b41-6d34-4693-acaa-a86a9eec5c7b",
   "metadata": {},
   "outputs": [
    {
     "data": {
      "text/plain": [
       "'I live right next to a huge university, and have been applying for a variety of jobs with them through their faceless electronic jobs portal (the \"click here to apply for this job\" type thing) for a few months. \\n\\nThe very first job I applied for, I got an interview that went just so-so. But then, I never heard back (I even looked up the number of the person who called me and called her back, left a voicemail, never heard anything).\\n\\nNow, when I\\'m applying for subsequent jobs - is it that same HR person who is seeing all my applications?? Or are they forwarded to the specific departments?\\n\\nI\\'ve applied for five jobs there in the last four months, all the resumes and cover letters tailored for each open position. Is this hurting my chances? I never got another interview there, for any of the positions. [summary]: '"
      ]
     },
     "execution_count": 15,
     "metadata": {},
     "output_type": "execute_result"
    }
   ],
   "source": [
    "sample_1[\"input_text\"]"
   ]
  },
  {
   "cell_type": "code",
   "execution_count": 16,
   "id": "c69a5d74-4d4f-4cfc-bb03-514b057d1361",
   "metadata": {},
   "outputs": [
    {
     "data": {
      "text/plain": [
       "'plan something in those circumstances. [summary]: '"
      ]
     },
     "execution_count": 16,
     "metadata": {},
     "output_type": "execute_result"
    }
   ],
   "source": [
    "#Another example\n",
    "preference_data[2][\"input_text\"][-50:]"
   ]
  },
  {
   "cell_type": "markdown",
   "id": "129c60ed-2b2a-4d28-81db-a6b1e3d4fb97",
   "metadata": {},
   "source": [
    "- Print 'candidate_0' and 'candidate_1', these are the completions for the same prompt."
   ]
  },
  {
   "cell_type": "code",
   "execution_count": 20,
   "id": "f4e08fc7-d564-45ac-9e77-fa33b1a5cfbf",
   "metadata": {},
   "outputs": [
    {
     "name": "stdout",
     "output_type": "stream",
     "text": [
      "candidate_0:\n",
      " When applying through a massive job portal, is just one HR person seeing ALL of them?\n",
      "\n",
      "candidate_1:\n",
      " When applying to many jobs through a single university jobs portal, is just one HR person reading ALL my applications?\n",
      "\n"
     ]
    }
   ],
   "source": [
    "print(f\"candidate_0:\\n{sample_1.get('candidate_0')}\\n\")\n",
    "print(f\"candidate_1:\\n{sample_1.get('candidate_1')}\\n\")"
   ]
  },
  {
   "cell_type": "markdown",
   "id": "33fef814-82f5-4e4a-8425-e368e2a49c4d",
   "metadata": {},
   "source": [
    "- Print 'choice', this is the human labeler's preference for the results completions (candidate_0 and candidate_1)"
   ]
  },
  {
   "cell_type": "code",
   "execution_count": 22,
   "id": "8a9c5ddb-c84b-4053-8e17-042b6a81bb3d",
   "metadata": {},
   "outputs": [
    {
     "name": "stdout",
     "output_type": "stream",
     "text": [
      "choice: 1\n"
     ]
    }
   ],
   "source": [
    "print(f\"choice: {sample_1.get('choice')}\")"
   ]
  },
  {
   "cell_type": "markdown",
   "id": "3d3df69f-44ca-420b-a527-3f9bcb72271c",
   "metadata": {},
   "source": [
    "#### Prompt dataset"
   ]
  },
  {
   "cell_type": "code",
   "execution_count": 25,
   "id": "8d041b6a-1cf6-4ec7-9d19-2a9d8744c92b",
   "metadata": {},
   "outputs": [],
   "source": [
    "prompt_dataset_path = \"sample_prompt.jsonl\""
   ]
  },
  {
   "cell_type": "code",
   "execution_count": 26,
   "id": "355cce1a-2ea1-4327-98b9-336d47a51534",
   "metadata": {},
   "outputs": [],
   "source": [
    "prompt_data = []"
   ]
  },
  {
   "cell_type": "code",
   "execution_count": 28,
   "id": "b1e0d465-4147-4383-bf90-c1de57dce49c",
   "metadata": {},
   "outputs": [],
   "source": [
    "#Reading the document\n",
    "with open(prompt_dataset_path) as f:\n",
    "    for line in f:\n",
    "        prompt_data.append(json.loads(line))"
   ]
  },
  {
   "cell_type": "code",
   "execution_count": 29,
   "id": "440512eb-0a4a-4489-87d1-9001eb96f8e2",
   "metadata": {},
   "outputs": [
    {
     "data": {
      "text/plain": [
       "12"
      ]
     },
     "execution_count": 29,
     "metadata": {},
     "output_type": "execute_result"
    }
   ],
   "source": [
    "#Check number of prompts in this dataset\n",
    "len(prompt_data)"
   ]
  },
  {
   "cell_type": "markdown",
   "id": "9a604b9c-019d-4fbf-a9d9-93d7999320f9",
   "metadata": {},
   "source": [
    "**Note**: It is important that the prompts in both datasets, the preference and the prompt, come from the same distribution. \n",
    "\n",
    "For this lesson, all the prompts come from the same dataset of [Reddit posts](https://github.com/openai/summarize-from-feedback)."
   ]
  },
  {
   "cell_type": "code",
   "execution_count": null,
   "id": "40e850e7-f1f7-445f-acbb-657967e011e9",
   "metadata": {},
   "outputs": [],
   "source": []
  },
  {
   "cell_type": "code",
   "execution_count": 23,
   "id": "345680b8-b063-4332-af99-d2f68ec902c8",
   "metadata": {},
   "outputs": [],
   "source": [
    "#Function to print the information in the prompt dataset with better visualization\n",
    "#create print_d function \n",
    "#Format is devided it to key and value \n",
    "def print_d(d):\n",
    "    for key, val in d.items():\n",
    "        print(f\"key:{key}\\nval:{val}\\n\")"
   ]
  },
  {
   "cell_type": "code",
   "execution_count": 30,
   "id": "687874b8-44c3-4cb4-b4df-24bacc726056",
   "metadata": {},
   "outputs": [
    {
     "name": "stdout",
     "output_type": "stream",
     "text": [
      "key:input_text\n",
      "val:I noticed this the very first day! I took a picture of it to send to one of my friends who is a fellow redditor. Later when I was getting to know my suitemates, I asked them if they ever used reddit, and they showed me the stencil they used to spray that! Along with the lion which is his trademark. \n",
      " But [summary]: \n",
      "\n"
     ]
    }
   ],
   "source": [
    "print_d(prompt_data[0])"
   ]
  },
  {
   "cell_type": "code",
   "execution_count": 31,
   "id": "ba5419aa-0375-4644-9823-25764eee3539",
   "metadata": {},
   "outputs": [
    {
     "name": "stdout",
     "output_type": "stream",
     "text": [
      "key:input_text\n",
      "val:Nooooooo, I loved my health class! My teacher was amazing! Most days we just went outside and played and the facility allowed it because the health teacher's argument was that teens need to spend time outside everyday and he let us do that. The other days were spent inside with him teaching us how to live a healthy lifestyle. He had guest speakers come in and reach us about nutrition and our final was open book...if we even had a final.... [summary]: \n",
      "\n"
     ]
    }
   ],
   "source": [
    "#Another prompt data \n",
    "print_d(prompt_data[1])"
   ]
  },
  {
   "cell_type": "code",
   "execution_count": null,
   "id": "1c70f5ec-5bd1-4a44-b4d5-699bc2b8d97f",
   "metadata": {},
   "outputs": [],
   "source": []
  }
 ],
 "metadata": {
  "kernelspec": {
   "display_name": "Python 3 (ipykernel)",
   "language": "python",
   "name": "python3"
  },
  "language_info": {
   "codemirror_mode": {
    "name": "ipython",
    "version": 3
   },
   "file_extension": ".py",
   "mimetype": "text/x-python",
   "name": "python",
   "nbconvert_exporter": "python",
   "pygments_lexer": "ipython3",
   "version": "3.11.5"
  }
 },
 "nbformat": 4,
 "nbformat_minor": 5
}
