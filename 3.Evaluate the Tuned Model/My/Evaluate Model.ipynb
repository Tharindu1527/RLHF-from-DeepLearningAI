{
 "cells": [
  {
   "cell_type": "markdown",
   "id": "46791819-15eb-4294-9761-4ef03dc5f7e5",
   "metadata": {},
   "source": [
    "# Lesson 4: Evaluate the Tuned Model\n"
   ]
  },
  {
   "cell_type": "markdown",
   "id": "ecd4d139-62b8-42c6-a2db-31a942d3191c",
   "metadata": {},
   "source": [
    "#### Project environment setup\n",
    "\n",
    "- Install Tensorboard (if running locally)\n",
    "```Python\n",
    "!pip install tensorboard\n",
    "```"
   ]
  },
  {
   "cell_type": "code",
   "execution_count": 1,
   "id": "39a68eb6-4234-4e1c-9cb0-6ffdf68bd8cd",
   "metadata": {},
   "outputs": [
    {
     "name": "stdout",
     "output_type": "stream",
     "text": [
      "Requirement already satisfied: tensorboard in c:\\programdata\\miniconda3\\lib\\site-packages (2.18.0)\n",
      "Requirement already satisfied: absl-py>=0.4 in c:\\programdata\\miniconda3\\lib\\site-packages (from tensorboard) (2.1.0)\n",
      "Requirement already satisfied: grpcio>=1.48.2 in c:\\programdata\\miniconda3\\lib\\site-packages (from tensorboard) (1.64.3)\n",
      "Requirement already satisfied: markdown>=2.6.8 in c:\\programdata\\miniconda3\\lib\\site-packages (from tensorboard) (3.7)\n",
      "Requirement already satisfied: numpy>=1.12.0 in c:\\programdata\\miniconda3\\lib\\site-packages (from tensorboard) (1.26.4)\n",
      "Requirement already satisfied: packaging in c:\\programdata\\miniconda3\\lib\\site-packages (from tensorboard) (23.2)\n",
      "Requirement already satisfied: protobuf!=4.24.0,>=3.19.6 in c:\\programdata\\miniconda3\\lib\\site-packages (from tensorboard) (4.25.5)\n",
      "Requirement already satisfied: setuptools>=41.0.0 in c:\\programdata\\miniconda3\\lib\\site-packages (from tensorboard) (68.2.2)\n",
      "Requirement already satisfied: six>1.9 in c:\\programdata\\miniconda3\\lib\\site-packages (from tensorboard) (1.17.0)\n",
      "Requirement already satisfied: tensorboard-data-server<0.8.0,>=0.7.0 in c:\\programdata\\miniconda3\\lib\\site-packages (from tensorboard) (0.7.2)\n",
      "Requirement already satisfied: werkzeug>=1.0.1 in c:\\programdata\\miniconda3\\lib\\site-packages (from tensorboard) (3.1.3)\n",
      "Requirement already satisfied: MarkupSafe>=2.1.1 in c:\\programdata\\miniconda3\\lib\\site-packages (from werkzeug>=1.0.1->tensorboard) (3.0.2)\n"
     ]
    }
   ],
   "source": [
    "!pip install tensorboard"
   ]
  },
  {
   "cell_type": "markdown",
   "id": "45f26be2-2dcf-4164-a6cc-65dcf5f965f6",
   "metadata": {},
   "source": [
    "### Explore results with Tensorboard"
   ]
  },
  {
   "cell_type": "code",
   "execution_count": 1,
   "id": "9d8b993a-761b-4767-8eab-349ea72ab46f",
   "metadata": {},
   "outputs": [],
   "source": [
    "%load_ext tensorboard"
   ]
  },
  {
   "cell_type": "code",
   "execution_count": 2,
   "id": "66cc08a9-9170-46f3-8fe3-3488616ce208",
   "metadata": {},
   "outputs": [
    {
     "data": {
      "text/html": [
       "\n",
       "      <iframe id=\"tensorboard-frame-d3ae0286076cc206\" width=\"100%\" height=\"800\" frameborder=\"0\">\n",
       "      </iframe>\n",
       "      <script>\n",
       "        (function() {\n",
       "          const frame = document.getElementById(\"tensorboard-frame-d3ae0286076cc206\");\n",
       "          const url = new URL(\"/\", window.location);\n",
       "          const port = 6006;\n",
       "          if (port) {\n",
       "            url.port = port;\n",
       "          }\n",
       "          frame.src = url;\n",
       "        })();\n",
       "      </script>\n",
       "    "
      ],
      "text/plain": [
       "<IPython.core.display.HTML object>"
      ]
     },
     "metadata": {},
     "output_type": "display_data"
    }
   ],
   "source": [
    "import os\n",
    "os.environ['PORT1'] = '6006'  # Set the port environment variable\n",
    "port = os.environ['PORT1']    # Retrieve the port value\n",
    "%tensorboard --logdir reward-logs --port $port --bind_all\n"
   ]
  },
  {
   "cell_type": "code",
   "execution_count": 3,
   "id": "d0db8e70-f065-431e-be5c-d4c12084cf6c",
   "metadata": {},
   "outputs": [
    {
     "name": "stdout",
     "output_type": "stream",
     "text": [
      " Volume in drive D has no label.\n",
      " Volume Serial Number is A2E3-0817\n",
      "\n",
      " Directory of D:\\Courses\\Reinforcement learning from deeplearning\\Github Repo\\3.Evaluate the Tuned Model\\My\\reward-logs\n",
      "\n",
      "01/25/2025  11:26 PM    <DIR>          .\n",
      "01/25/2025  11:26 PM    <DIR>          ..\n",
      "01/25/2025  01:14 AM            41,814 rlhf_526064905871_rlhf-train-template-20231025162358_rewardmodeltrainer_-5577427763033276416_tensorboard_metrics_train_events.out.tfevents.1698255866.t1v-n-807add68-w-1.1.0.v2\n",
      "               1 File(s)         41,814 bytes\n",
      "               2 Dir(s)  129,955,246,080 bytes free\n"
     ]
    }
   ],
   "source": [
    "ls reward-logs"
   ]
  },
  {
   "cell_type": "code",
   "execution_count": 4,
   "id": "8c54615f-15a2-48fe-afbb-09d633ad4748",
   "metadata": {},
   "outputs": [
    {
     "data": {
      "text/html": [
       "\n",
       "      <iframe id=\"tensorboard-frame-e6b7422929d2f564\" width=\"100%\" height=\"800\" frameborder=\"0\">\n",
       "      </iframe>\n",
       "      <script>\n",
       "        (function() {\n",
       "          const frame = document.getElementById(\"tensorboard-frame-e6b7422929d2f564\");\n",
       "          const url = new URL(\"/\", window.location);\n",
       "          const port = 6007;\n",
       "          if (port) {\n",
       "            url.port = port;\n",
       "          }\n",
       "          frame.src = url;\n",
       "        })();\n",
       "      </script>\n",
       "    "
      ],
      "text/plain": [
       "<IPython.core.display.HTML object>"
      ]
     },
     "metadata": {},
     "output_type": "display_data"
    }
   ],
   "source": [
    "import os\n",
    "os.environ['PORT1'] = '6007'  # Set the port environment variable\n",
    "port = os.environ['PORT1']    # Retrieve the port value\n",
    "%tensorboard --logdir reinforcer-logs --port $port --bind_all\n"
   ]
  },
  {
   "cell_type": "code",
   "execution_count": 5,
   "id": "5743e345-a574-49e1-a745-bbfb556acaaf",
   "metadata": {},
   "outputs": [
    {
     "data": {
      "text/html": [
       "\n",
       "      <iframe id=\"tensorboard-frame-48e0e982db6910c2\" width=\"100%\" height=\"800\" frameborder=\"0\">\n",
       "      </iframe>\n",
       "      <script>\n",
       "        (function() {\n",
       "          const frame = document.getElementById(\"tensorboard-frame-48e0e982db6910c2\");\n",
       "          const url = new URL(\"/\", window.location);\n",
       "          const port = 6008;\n",
       "          if (port) {\n",
       "            url.port = port;\n",
       "          }\n",
       "          frame.src = url;\n",
       "        })();\n",
       "      </script>\n",
       "    "
      ],
      "text/plain": [
       "<IPython.core.display.HTML object>"
      ]
     },
     "metadata": {},
     "output_type": "display_data"
    }
   ],
   "source": [
    "%tensorboard --logdir reinforcer-fulldata-logs"
   ]
  },
  {
   "cell_type": "markdown",
   "id": "0b6c9de7-c44d-4ee3-ac5c-71071294ac34",
   "metadata": {},
   "source": [
    "- The dictionary of 'parameter_values' defined in the previous lesson"
   ]
  },
  {
   "cell_type": "code",
   "execution_count": 6,
   "id": "78b0fc34-719a-45aa-a5de-cf783b1d1fde",
   "metadata": {},
   "outputs": [],
   "source": [
    "parameter_values={\n",
    "        \"preference_dataset\": \\\n",
    "    \"gs://vertex-ai/generative-ai/rlhf/text/summarize_from_feedback_tfds/comparisons/train/*.jsonl\",\n",
    "        \"prompt_dataset\": \\\n",
    "    \"gs://vertex-ai/generative-ai/rlhf/text/reddit_tfds/train/*.jsonl\",\n",
    "        \"eval_dataset\": \\\n",
    "    \"gs://vertex-ai/generative-ai/rlhf/text/reddit_tfds/val/*.jsonl\",\n",
    "        \"large_model_reference\": \"llama-2-7b\",\n",
    "        \"reward_model_train_steps\": 10000,\n",
    "        \"reinforcement_learning_train_steps\": 10000,\n",
    "        \"reward_model_learning_rate_multiplier\": 1.0,\n",
    "        \"reinforcement_learning_rate_multiplier\": 0.2,\n",
    "        \"kl_coeff\": 0.1,\n",
    "        \"instruction\":\\\n",
    "    \"Summarize in less than 50 words\"}"
   ]
  },
  {
   "cell_type": "markdown",
   "id": "988f65d0-d7cc-4aa1-b5d8-00e57a4f36f3",
   "metadata": {},
   "source": [
    "### Evaluate using the tuned and untuned model"
   ]
  },
  {
   "cell_type": "code",
   "execution_count": 7,
   "id": "904c4cbf-d31b-4902-a65c-d2d30b263dc6",
   "metadata": {},
   "outputs": [],
   "source": [
    "import json"
   ]
  },
  {
   "cell_type": "code",
   "execution_count": 8,
   "id": "b4bf00b6-cb9b-4e29-aad8-a079fdbe4d40",
   "metadata": {},
   "outputs": [],
   "source": [
    "eval_tuned_path = 'eval_results_tuned.jsonl'"
   ]
  },
  {
   "cell_type": "code",
   "execution_count": 9,
   "id": "0dab3519-adf4-4bdf-abbb-34b6270ad2e1",
   "metadata": {},
   "outputs": [],
   "source": [
    "eval_data_tuned = []"
   ]
  },
  {
   "cell_type": "code",
   "execution_count": 10,
   "id": "01e24df1-e7b1-441a-9391-15869dc062b4",
   "metadata": {},
   "outputs": [],
   "source": [
    "with open(eval_tuned_path) as f:\n",
    "    for line in f:\n",
    "        eval_data_tuned.append(json.loads(line))"
   ]
  },
  {
   "cell_type": "code",
   "execution_count": 11,
   "id": "12586848-e687-4ceb-9db7-f973a3886b4d",
   "metadata": {},
   "outputs": [],
   "source": [
    "def print_d(d, indent=0):\n",
    "    for key, val in d.items():\n",
    "        indentation = \"  \" * indent\n",
    "        print(f\"{indentation}\" + \"-\"*50)\n",
    "        print(f\"{indentation}key:{key}\\n\")\n",
    "        if isinstance(val, dict):\n",
    "            print(f\"{indentation}val\")\n",
    "            print_d(val,indent=indent+1)\n",
    "        else:\n",
    "            print(f\"{indentation}val:{val}\")     "
   ]
  },
  {
   "cell_type": "code",
   "execution_count": 12,
   "id": "b084adec-5825-4fb7-8a7c-6db9370ef16c",
   "metadata": {},
   "outputs": [
    {
     "name": "stdout",
     "output_type": "stream",
     "text": [
      "--------------------------------------------------\n",
      "key:inputs\n",
      "\n",
      "val\n",
      "  --------------------------------------------------\n",
      "  key:inputs_pretokenized\n",
      "\n",
      "  val:Summarize in less than 50 words.\n",
      "\n",
      "\n",
      "Before anything, not a sad story or anything. My country's equivalent to Valentine's Day is coming and I had this pretty simple idea to surprise my girlfriend and it would involve giving her some roses. The thing is, although I know she would appreciate my intention in and of itself, I don't know if she would like the actual flowers and such, so I wanted to find out if she likes roses and if she would like getting some, but without her realizing it so as not to spoil the surprise. Any ideas on how to get that information out of her? [summary]: \n",
      "  --------------------------------------------------\n",
      "  key:targets_pretokenized\n",
      "\n",
      "  val:\n",
      "--------------------------------------------------\n",
      "key:prediction\n",
      "\n",
      "val:My country's equivalent to Valentine's Day is coming. Want to surprise my girlfriend with roses but don't know if she would like getting some. Any ideas on how to get that information out of her without spoiling the surprise\n"
     ]
    }
   ],
   "source": [
    "# Look at the result produced by the tuned model\n",
    "print_d(eval_data_tuned[0])"
   ]
  },
  {
   "cell_type": "code",
   "execution_count": 13,
   "id": "1dc0fa12-bb68-4612-8cdd-af8cab8ecacf",
   "metadata": {},
   "outputs": [],
   "source": [
    "eval_untuned_path = 'eval_results_untuned.jsonl'"
   ]
  },
  {
   "cell_type": "code",
   "execution_count": 14,
   "id": "8c92eb5c-28d1-42c8-b053-28900bee6579",
   "metadata": {},
   "outputs": [],
   "source": [
    "eval_data_untuned = []"
   ]
  },
  {
   "cell_type": "code",
   "execution_count": 15,
   "id": "798df1f3-8dd9-42dd-9ad6-32b541f99faf",
   "metadata": {},
   "outputs": [],
   "source": [
    "with open(eval_untuned_path) as f:\n",
    "    for line in f:\n",
    "        eval_data_untuned.append(json.loads(line))"
   ]
  },
  {
   "cell_type": "code",
   "execution_count": 16,
   "id": "360e1a39-b8fb-428f-8561-a5a33750287e",
   "metadata": {},
   "outputs": [
    {
     "name": "stdout",
     "output_type": "stream",
     "text": [
      "--------------------------------------------------\n",
      "key:inputs\n",
      "\n",
      "val\n",
      "  --------------------------------------------------\n",
      "  key:inputs_pretokenized\n",
      "\n",
      "  val:Summarize in less than 50 words.\n",
      "\n",
      "\n",
      "Before anything, not a sad story or anything. My country's equivalent to Valentine's Day is coming and I had this pretty simple idea to surprise my girlfriend and it would involve giving her some roses. The thing is, although I know she would appreciate my intention in and of itself, I don't know if she would like the actual flowers and such, so I wanted to find out if she likes roses and if she would like getting some, but without her realizing it so as not to spoil the surprise. Any ideas on how to get that information out of her? [summary]: \n",
      "  --------------------------------------------------\n",
      "  key:targets_pretokenized\n",
      "\n",
      "  val:\n",
      "--------------------------------------------------\n",
      "key:prediction\n",
      "\n",
      "val:The author wants to surprise his girlfriend with roses on Valentine's Day but he doesn't know if she likes roses. He wants to find out without spoiling the surprise.\n"
     ]
    }
   ],
   "source": [
    "# Look at the result produced by the untuned model\n",
    "print_d(eval_data_untuned[0])"
   ]
  },
  {
   "cell_type": "markdown",
   "id": "c4216fd3-ff93-4757-a182-a11bd24c92db",
   "metadata": {},
   "source": [
    "### Explore the results side by side in a dataframe"
   ]
  },
  {
   "cell_type": "code",
   "execution_count": 17,
   "id": "4c5c1a9f-0dd0-43a6-983a-5793156ee999",
   "metadata": {},
   "outputs": [],
   "source": [
    "# Extract all the prompts\n",
    "prompts = [sample[\"inputs\"][\"inputs_pretokenized\"]\n",
    "           for sample in eval_data_tuned]"
   ]
  },
  {
   "cell_type": "code",
   "execution_count": 18,
   "id": "eb92f8db-16d2-47fc-991f-88274dd5aeed",
   "metadata": {},
   "outputs": [],
   "source": [
    "# Completion from the untuned model\n",
    "untuned_completions = [sample[\"prediction\"]\n",
    "                       for sample in eval_data_untuned]"
   ]
  },
  {
   "cell_type": "code",
   "execution_count": 19,
   "id": "3540e1aa-e1cc-405f-a39a-8de71e4cd1f2",
   "metadata": {},
   "outputs": [],
   "source": [
    "# Completions from the tuned model\n",
    "tuned_completions = [sample['prediction']\n",
    "                     for sample in eval_data_tuned]"
   ]
  },
  {
   "cell_type": "markdown",
   "id": "82dd5d4c-2b99-4a4a-b311-37541dc08299",
   "metadata": {},
   "source": [
    "- Now putting all together in one big dataframe"
   ]
  },
  {
   "cell_type": "code",
   "execution_count": 20,
   "id": "45131335-9298-4fdc-884b-fb71bfef08da",
   "metadata": {},
   "outputs": [],
   "source": [
    "import pandas as pd"
   ]
  },
  {
   "cell_type": "code",
   "execution_count": 21,
   "id": "971148c7-1603-4980-aa81-8b7b4f10aa8f",
   "metadata": {},
   "outputs": [],
   "source": [
    "results = pd.DataFrame(\n",
    "    data={\"prompt\" : prompts,\n",
    "          \"base_model\" : untuned_completions,\n",
    "          \"tuned_model\" : tuned_completions})"
   ]
  },
  {
   "cell_type": "code",
   "execution_count": 22,
   "id": "1491231d-51af-45f7-b958-b2e19f5f99bf",
   "metadata": {},
   "outputs": [
    {
     "data": {
      "text/html": [
       "<div>\n",
       "<style scoped>\n",
       "    .dataframe tbody tr th:only-of-type {\n",
       "        vertical-align: middle;\n",
       "    }\n",
       "\n",
       "    .dataframe tbody tr th {\n",
       "        vertical-align: top;\n",
       "    }\n",
       "\n",
       "    .dataframe thead th {\n",
       "        text-align: right;\n",
       "    }\n",
       "</style>\n",
       "<table border=\"1\" class=\"dataframe\">\n",
       "  <thead>\n",
       "    <tr style=\"text-align: right;\">\n",
       "      <th></th>\n",
       "      <th>prompt</th>\n",
       "      <th>base_model</th>\n",
       "      <th>tuned_model</th>\n",
       "    </tr>\n",
       "  </thead>\n",
       "  <tbody>\n",
       "    <tr>\n",
       "      <th>0</th>\n",
       "      <td>Summarize in less than 50 words.\\n\\n\\nBefore anything, not a sad story or anything. My country's equivalent to Valentine's Day is coming and I had this pretty simple idea to surprise my girlfriend and it would involve giving her some roses. The thing is, although I know she would appreciate my intention in and of itself, I don't know if she would like the actual flowers and such, so I wanted to find out if she likes roses and if she would like getting some, but without her realizing it so as not to spoil the surprise. Any ideas on how to get that information out of her? [summary]:</td>\n",
       "      <td>The author wants to surprise his girlfriend with roses on Valentine's Day but he doesn't know if she likes roses. He wants to find out without spoiling the surprise.</td>\n",
       "      <td>My country's equivalent to Valentine's Day is coming. Want to surprise my girlfriend with roses but don't know if she would like getting some. Any ideas on how to get that information out of her without spoiling the surprise</td>\n",
       "    </tr>\n",
       "    <tr>\n",
       "      <th>1</th>\n",
       "      <td>Summarize in less than 50 words.\\n\\n\\nFor most of high school, I've been the go to \"computer kid.\" I'll be the first to admit that I know a lot about how computers work, and often fix things for teachers before the IT guys have a chance to get a whack at them. I worked at a computer repair shop for half a year as a technician. I've done the typical tech guy thing and drooled over new computers that come out (read: Wired/PopSci/2600 articles and centerfolds). \\n\\nThat said, I have NO IDEA what kind of computer to get for college. I've always wanted to buy a ton of parts and build my own \"super\" desktop, but I for sure need a laptop. If everything goes according to plan, I'm enrolling at Champlain College next Fall to double major in Computer Network Information Security and Digital Forensics. \\n\\nA lot of you probably already know this, but this major involves a lot of virtual desktops. Essentially I set up entire networks on my own rig and then go in and play around with them, all from one computer. It takes a lot of processing power and hard drive space.\\n\\nOver the years I've built up several stereotypes about different brands, operating systems, products... Recently, my mind has been opened back up and I'm willing to take a look at anything, even a Dell or an Asus.\\n\\nIt's recently been brought to my attention that Macs are actually pretty good. I've always been a notorious Windows-only-guy. I finally decided to bite my tongue and take a look under the hood, and my god are these things powerful... I guess it really does help making everything but the processor in-house.\\n\\nAnywho, what I really need is suggestions that might work well for my major, hopefully staying under a budget of $1600. Also, what are the big differences between a MacBook and  MacBook Pro? [summary]:</td>\n",
       "      <td>A high school senior who is going to major in Computer Network Information Security and Digital Forensics needs a laptop that is powerful enough to run virtual desktops. He is open to suggestions of any brands, but prefers Macs. He is looking for a laptop under $1600 and wants to know the difference between MacBook and</td>\n",
       "      <td>Been the go to \"computer kid\" in high school. Majoring in Computer Network Information Security and Digital Forensics. Need suggestions for a laptop under 1600. What are the big differences between a MacBook and MacBook Pro</td>\n",
       "    </tr>\n",
       "    <tr>\n",
       "      <th>2</th>\n",
       "      <td>Summarize in less than 50 words.\\n\\n\\nSo I graduated in may 2014 in the DC area but couldn't start applying to jobs till April of this year due to family circumstances. So far I've applied to nearly 50+ places, 4 recruiters contacted me and added me to their available candidates list after a small interview (one of them got me a small office assignment but that's over) and gotten two interviews by myself (none of which panned out). I have experience in office software and am pretty well versed in excel (i'd say a little less than advanced but a lot more than proficient) and advanced mathematics. I have a GPA higher than 3 but lower than 3.5 which I don't mention in my resume. Could that be it? \\n\\nI don't understand what I'm doing wrong. So far I've been applying to anything remotely related with data, analysis, finance at entry level but I barely get any response. Data entry and admin assistant positions are no different. I also write cover letters for almost every place. I also don't know many people here since my family isn't really well connected enough for me to have great networking opportunities. I really don't know what to do next. I can't imagine how people applying to over 200-400 places deal with the frustrating and emotionally draining experience. I would really appreciate some advice from recent econ/finance grads or hiring personnel. [summary]:</td>\n",
       "      <td>Graduated in May 2014, but couldn't start applying to jobs till April of this year. Applied to nearly 50 places, but only got 2 interviews. GPA is higher than 3 but lower than 3.5. Don't know what I'm doing wrong.</td>\n",
       "      <td>Graduated in may 2014. Applied to nearly 50+ places for data, analysis finance entry level. Barely get any response. Don't know what to do next. Would appreciate advice from recent econ/finance grads or hiring personnel.</td>\n",
       "    </tr>\n",
       "    <tr>\n",
       "      <th>3</th>\n",
       "      <td>Summarize in less than 50 words.\\n\\n\\nHello /r/jobs, I graduated a few months ago and had no luck so far to get a job in marketing/sales. \\n\\nThere's a small local company (perhaps 30 employees) but they are actually pretty successful in what they're doing (known worldwide). I checked their website and it's awful. Looks like a website from the early 2000's. So I guess they are not pretty good in (online-)marketing. \\n\\nI would like to do a cold application (not sure if they are looking for a marketing guy) but I had no luck with this kind of application in the past. That's why I thought I try something different. I have good skills in photoshop, indesign and illustrator. As a teenager I also built websites using HTML, so I thought I build a dummy website fitted to their company and attach some screenshots to my application.\\n\\nWhat do you think? I this a feasible idea or will they be offended?\\n\\nThank you very much in advance. [summary]:</td>\n",
       "      <td>Graduated a few months ago, looking for a job in marketing/sales. Found a small local company that is successful but has an awful website. I want to apply for a marketing job but not sure if they are hiring. I thought of building a dummy website for them and attach some screenshots to my application.</td>\n",
       "      <td>Graduated a few months ago. No luck so far to get a job in marketing/sales. Thought to build a dummy website fitted to the company and attach some screenshots to my application. What do you think?</td>\n",
       "    </tr>\n",
       "    <tr>\n",
       "      <th>4</th>\n",
       "      <td>Summarize in less than 50 words.\\n\\n\\nHello!\\n\\nI hope that someone can lend me some advice for a situation that I find myself in. Here's my situation:\\n\\nAbout 10 years ago as I was traveling, I applied for my first credit card which was an AMEX delta card. For the years after, I traveled often, and got benefits from this card.\\n\\nNow, after I have recently graduated college, and landed a full time job, I no longer have time to travel as much, and therefore have no need to use the Delta card. Last year I paid off my balance with the card, and haven't used it since.\\n\\nRecently, I had to pay the $95 annual fee, and realized that I should perhaps consider another credit card. I thought about closing this account and applying for a cash rewards card.\\n\\nNow my issue is that this is my ONLY and OLDEST credit card account. I would like to close the account and apply for a Bank of America cash rewards card as my checking/savings accounts are with them. However, I am concerned with how this will affect my credit report.\\n\\nWill closing this account greatly affect my credit score?\\n\\nI even spoke with the reps at AMEX about downgrading to a cash rewards card with no annual fee, and apparently I cannot do this as my AMEX card is linked with the Delta account. I do not want this card, I'm stuck in a pickle...\\n\\nAny advice would be appreciated! [summary]:</td>\n",
       "      <td>The author has an AMEX delta card which has an annual fee. The author wants to close the account and apply for a cash rewards card. However, the author is concerned about how this will affect their credit score.</td>\n",
       "      <td>About 10 years ago applied for my first credit card AMEX delta card. No longer have time to travel as much. Thinking of closing the account and apply for a cash rewards card. Any advice would be appreciated.</td>\n",
       "    </tr>\n",
       "  </tbody>\n",
       "</table>\n",
       "</div>"
      ],
      "text/plain": [
       "                                                                                                                                                                                                                                                                                                                                                                                                                                                                                                                                                                                                                                                                                                                                                                                                                                                                                                                                                                                                                                                                                                                                                                                                                                                                                                                                                                                                                                                                                                                                                                                                                                                                                                                                                                                                                                                                          prompt  \\\n",
       "0                                                                                                                                                                                                                                                                                                                                                                                                                                                                                                                                                                                                                                                                                                                                                                                                                                                                                                                                                                                                                                                                                                                                                                                                                                                                   Summarize in less than 50 words.\\n\\n\\nBefore anything, not a sad story or anything. My country's equivalent to Valentine's Day is coming and I had this pretty simple idea to surprise my girlfriend and it would involve giving her some roses. The thing is, although I know she would appreciate my intention in and of itself, I don't know if she would like the actual flowers and such, so I wanted to find out if she likes roses and if she would like getting some, but without her realizing it so as not to spoil the surprise. Any ideas on how to get that information out of her? [summary]:    \n",
       "1  Summarize in less than 50 words.\\n\\n\\nFor most of high school, I've been the go to \"computer kid.\" I'll be the first to admit that I know a lot about how computers work, and often fix things for teachers before the IT guys have a chance to get a whack at them. I worked at a computer repair shop for half a year as a technician. I've done the typical tech guy thing and drooled over new computers that come out (read: Wired/PopSci/2600 articles and centerfolds). \\n\\nThat said, I have NO IDEA what kind of computer to get for college. I've always wanted to buy a ton of parts and build my own \"super\" desktop, but I for sure need a laptop. If everything goes according to plan, I'm enrolling at Champlain College next Fall to double major in Computer Network Information Security and Digital Forensics. \\n\\nA lot of you probably already know this, but this major involves a lot of virtual desktops. Essentially I set up entire networks on my own rig and then go in and play around with them, all from one computer. It takes a lot of processing power and hard drive space.\\n\\nOver the years I've built up several stereotypes about different brands, operating systems, products... Recently, my mind has been opened back up and I'm willing to take a look at anything, even a Dell or an Asus.\\n\\nIt's recently been brought to my attention that Macs are actually pretty good. I've always been a notorious Windows-only-guy. I finally decided to bite my tongue and take a look under the hood, and my god are these things powerful... I guess it really does help making everything but the processor in-house.\\n\\nAnywho, what I really need is suggestions that might work well for my major, hopefully staying under a budget of $1600. Also, what are the big differences between a MacBook and  MacBook Pro? [summary]:    \n",
       "2                                                                                                                                                                                                                                                                                                                                                                                                                                          Summarize in less than 50 words.\\n\\n\\nSo I graduated in may 2014 in the DC area but couldn't start applying to jobs till April of this year due to family circumstances. So far I've applied to nearly 50+ places, 4 recruiters contacted me and added me to their available candidates list after a small interview (one of them got me a small office assignment but that's over) and gotten two interviews by myself (none of which panned out). I have experience in office software and am pretty well versed in excel (i'd say a little less than advanced but a lot more than proficient) and advanced mathematics. I have a GPA higher than 3 but lower than 3.5 which I don't mention in my resume. Could that be it? \\n\\nI don't understand what I'm doing wrong. So far I've been applying to anything remotely related with data, analysis, finance at entry level but I barely get any response. Data entry and admin assistant positions are no different. I also write cover letters for almost every place. I also don't know many people here since my family isn't really well connected enough for me to have great networking opportunities. I really don't know what to do next. I can't imagine how people applying to over 200-400 places deal with the frustrating and emotionally draining experience. I would really appreciate some advice from recent econ/finance grads or hiring personnel. [summary]:    \n",
       "3                                                                                                                                                                                                                                                                                                                                                                                                                                                                                                                                                                                                                                                                                                                                                                                                                                                                                      Summarize in less than 50 words.\\n\\n\\nHello /r/jobs, I graduated a few months ago and had no luck so far to get a job in marketing/sales. \\n\\nThere's a small local company (perhaps 30 employees) but they are actually pretty successful in what they're doing (known worldwide). I checked their website and it's awful. Looks like a website from the early 2000's. So I guess they are not pretty good in (online-)marketing. \\n\\nI would like to do a cold application (not sure if they are looking for a marketing guy) but I had no luck with this kind of application in the past. That's why I thought I try something different. I have good skills in photoshop, indesign and illustrator. As a teenager I also built websites using HTML, so I thought I build a dummy website fitted to their company and attach some screenshots to my application.\\n\\nWhat do you think? I this a feasible idea or will they be offended?\\n\\nThank you very much in advance. [summary]:    \n",
       "4                                                                                                                                                                                                                                                                                                                                                                                                                                                      Summarize in less than 50 words.\\n\\n\\nHello!\\n\\nI hope that someone can lend me some advice for a situation that I find myself in. Here's my situation:\\n\\nAbout 10 years ago as I was traveling, I applied for my first credit card which was an AMEX delta card. For the years after, I traveled often, and got benefits from this card.\\n\\nNow, after I have recently graduated college, and landed a full time job, I no longer have time to travel as much, and therefore have no need to use the Delta card. Last year I paid off my balance with the card, and haven't used it since.\\n\\nRecently, I had to pay the $95 annual fee, and realized that I should perhaps consider another credit card. I thought about closing this account and applying for a cash rewards card.\\n\\nNow my issue is that this is my ONLY and OLDEST credit card account. I would like to close the account and apply for a Bank of America cash rewards card as my checking/savings accounts are with them. However, I am concerned with how this will affect my credit report.\\n\\nWill closing this account greatly affect my credit score?\\n\\nI even spoke with the reps at AMEX about downgrading to a cash rewards card with no annual fee, and apparently I cannot do this as my AMEX card is linked with the Delta account. I do not want this card, I'm stuck in a pickle...\\n\\nAny advice would be appreciated! [summary]:    \n",
       "\n",
       "                                                                                                                                                                                                                                                                                                                         base_model  \\\n",
       "0                                                                                                                                                             The author wants to surprise his girlfriend with roses on Valentine's Day but he doesn't know if she likes roses. He wants to find out without spoiling the surprise.   \n",
       "1  A high school senior who is going to major in Computer Network Information Security and Digital Forensics needs a laptop that is powerful enough to run virtual desktops. He is open to suggestions of any brands, but prefers Macs. He is looking for a laptop under $1600 and wants to know the difference between MacBook and   \n",
       "2                                                                                                             Graduated in May 2014, but couldn't start applying to jobs till April of this year. Applied to nearly 50 places, but only got 2 interviews. GPA is higher than 3 but lower than 3.5. Don't know what I'm doing wrong.   \n",
       "3                     Graduated a few months ago, looking for a job in marketing/sales. Found a small local company that is successful but has an awful website. I want to apply for a marketing job but not sure if they are hiring. I thought of building a dummy website for them and attach some screenshots to my application.   \n",
       "4                                                                                                               The author has an AMEX delta card which has an annual fee. The author wants to close the account and apply for a cash rewards card. However, the author is concerned about how this will affect their credit score.   \n",
       "\n",
       "                                                                                                                                                                                                                        tuned_model  \n",
       "0  My country's equivalent to Valentine's Day is coming. Want to surprise my girlfriend with roses but don't know if she would like getting some. Any ideas on how to get that information out of her without spoiling the surprise  \n",
       "1   Been the go to \"computer kid\" in high school. Majoring in Computer Network Information Security and Digital Forensics. Need suggestions for a laptop under 1600. What are the big differences between a MacBook and MacBook Pro  \n",
       "2      Graduated in may 2014. Applied to nearly 50+ places for data, analysis finance entry level. Barely get any response. Don't know what to do next. Would appreciate advice from recent econ/finance grads or hiring personnel.  \n",
       "3                              Graduated a few months ago. No luck so far to get a job in marketing/sales. Thought to build a dummy website fitted to the company and attach some screenshots to my application. What do you think?  \n",
       "4                   About 10 years ago applied for my first credit card AMEX delta card. No longer have time to travel as much. Thinking of closing the account and apply for a cash rewards card. Any advice would be appreciated.  "
      ]
     },
     "execution_count": 22,
     "metadata": {},
     "output_type": "execute_result"
    }
   ],
   "source": [
    "pd.set_option(\"display.max_colwidth\", None)\n",
    "results"
   ]
  },
  {
   "cell_type": "code",
   "execution_count": null,
   "id": "0e18154d-b738-4dfb-937f-56aa7f3161f2",
   "metadata": {},
   "outputs": [],
   "source": []
  },
  {
   "cell_type": "code",
   "execution_count": null,
   "id": "2acd4dba-8be3-4a7d-bc63-a27364b5838c",
   "metadata": {},
   "outputs": [],
   "source": []
  }
 ],
 "metadata": {
  "kernelspec": {
   "display_name": "Python 3 (ipykernel)",
   "language": "python",
   "name": "python3"
  },
  "language_info": {
   "codemirror_mode": {
    "name": "ipython",
    "version": 3
   },
   "file_extension": ".py",
   "mimetype": "text/x-python",
   "name": "python",
   "nbconvert_exporter": "python",
   "pygments_lexer": "ipython3",
   "version": "3.11.5"
  }
 },
 "nbformat": 4,
 "nbformat_minor": 5
}
